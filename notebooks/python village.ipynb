{
 "cells": [
  {
   "cell_type": "markdown",
   "metadata": {},
   "source": [
    "# Python Village    \n",
    "\n",
    "## Description      \n",
    "If you are completely new to programming, try these initial problems to learn a few basics about the Python programming language. You'll get familiar with the operations needed to start solving bioinformatics challenges in the Stronghold.\n",
    "\n"
   ]
  },
  {
   "cell_type": "markdown",
   "metadata": {},
   "source": [
    "## Code"
   ]
  },
  {
   "cell_type": "markdown",
   "metadata": {},
   "source": [
    "### INI2 - Variables and Some Arithmetic\n",
    "\n",
    "**Problem**\n",
    "\n",
    "> **Given:** Two positive integers aa and bb, each less than 1000.\n",
    "\n",
    "> **Return:** The integer corresponding to the square of the hypotenuse of the right triangle whose legs have lengths a and b.\n",
    "\n",
    "**Notes**:\n",
    "\n",
    "1. The dataset changes every time you click \"Download dataset\".\n",
    "2. We check only your final answer to the downloaded dataset in the box below, not your code itself. If you would like to provide your code as well, you may use the upload tool. Please also note that the correct answer to this problem will not in general be 34; it is simply an example of what you should return in the specific case that the legs of the triangle have length 3 and 5.\n",
    "\n",
    "**Sample Dataset**\n",
    "\n",
    "    3 5\n",
    "    \n",
    "**Sample Output**\n",
    "\n",
    "    34"
   ]
  },
  {
   "cell_type": "code",
   "execution_count": null,
   "metadata": {
    "collapsed": true
   },
   "outputs": [],
   "source": [
    "def get_hyp_as_sqrt(a,b):\n",
    "    return (a**2 + b**2)"
   ]
  },
  {
   "cell_type": "code",
   "execution_count": null,
   "metadata": {
    "collapsed": false
   },
   "outputs": [],
   "source": [
    "print \"x = %s\" %get_hyp_as_sqrt(831,993)"
   ]
  },
  {
   "cell_type": "markdown",
   "metadata": {},
   "source": [
    "### INI3 - Strings and lists\n",
    "\n",
    "**Problem**\n",
    "\n",
    "> **Given:** A string `s` of length at most 200 letters and four integers `a`, `b`, `c` and `d`.\n",
    "\n",
    "> **Return:** The slice of this string from indices `a` through `b` and `c` through `d` (with space in between), inclusively.\n",
    "\n",
    "**Sample Dataset**\n",
    "\n",
    "    HumptyDumptysatonawallHumptyDumptyhadagreatfallAlltheKingshorsesandalltheKingsmenCouldntputHumptyDumptyinhisplaceagain.\n",
    "    22 27 97 102\n",
    "    \n",
    "**Sample Output**\n",
    "\n",
    "    Humpty Dumpty\n"
   ]
  },
  {
   "cell_type": "code",
   "execution_count": null,
   "metadata": {
    "collapsed": false
   },
   "outputs": [],
   "source": [
    "def ini3_slice(input, first, last):\n",
    "    return input[first:last+1]\n",
    "\n",
    "def ini3_logic(input, a, b, c, d):\n",
    "    first_str = ini3_slice(input, a, b)\n",
    "    sec_str = ini3_slice(input, c, d)\n",
    "    return first_str + \" \" + sec_str\n",
    "\n",
    "a = 51\n",
    "b = 57\n",
    "c = 85\n",
    "d = 90\n",
    "str1 = \"yQtCLz0jCBGQcHXZMlbWppQTz3TtiCkWs9QTXnrOJZ2dvJv6nwvRipariawbk0QpC1B1ivhopUYBC7yTpZ5zVpiceus3tsgFaVEhi1qJFKyKSO08\"\n",
    "str2 = \"fX1vnOm3o1uHkVo1NFWvNKDqj1tVZXnsUuzjvcdtgTxbA9LmGNtKgSCKFOrgLbMznAdJGF0qNd.\"\n",
    "input_str = str1 + str2\n",
    "\n",
    "print 'result: \"%s\"' %ini3_logic(input_str, a,b,c,d)"
   ]
  },
  {
   "cell_type": "markdown",
   "metadata": {},
   "source": [
    "### INI4 - Conditions and Loops\n",
    "\n",
    "**Problem**\n",
    "\n",
    "> **Given:** Two positive integers `a and b (a < b < 10000)`.\n",
    "\n",
    "> **Return:** The sum of all odd integers from `a` through `b`, inclusively.\n",
    "\n",
    "**Sample Dataset**\n",
    "\n",
    "    100 200\n",
    "    \n",
    "**Sample Output**\n",
    "\n",
    "    7500\n"
   ]
  },
  {
   "cell_type": "code",
   "execution_count": null,
   "metadata": {
    "collapsed": false
   },
   "outputs": [],
   "source": [
    "def ini4_logic(a,b):\n",
    "    result = 0\n",
    "    i = a\n",
    "    for i in range(a,b+1):\n",
    "        if i % 2 is 1:\n",
    "            result += i\n",
    "    return result"
   ]
  },
  {
   "cell_type": "code",
   "execution_count": null,
   "metadata": {
    "collapsed": false
   },
   "outputs": [],
   "source": [
    "# test ini4\n",
    "a = 4190\n",
    "b = 8678\n",
    "print 'result: \"%s\"' %ini4_logic(a, b)"
   ]
  },
  {
   "cell_type": "markdown",
   "metadata": {},
   "source": [
    "### INI5 - Working with Files\n",
    "\n",
    "**Problem**\n",
    "\n",
    "> **Given:** A file containing at most 1000 lines.\n",
    "\n",
    "> **Return:** A file containing all the even-numbered lines from the original file. Assume 1-based numbering of lines.\n",
    "\n",
    "**Sample Dataset**\n",
    "\n",
    "    Bravely bold Sir Robin rode forth from Camelot\n",
    "    Yes, brave Sir Robin turned about\n",
    "    He was not afraid to die, O brave Sir Robin\n",
    "    And gallantly he chickened out\n",
    "    He was not at all afraid to be killed in nasty ways\n",
    "    Bravely talking to his feet\n",
    "    Brave, brave, brave, brave Sir Robin\n",
    "    He beat a very brave retreat\n",
    "    \n",
    "**Sample Output**\n",
    "\n",
    "    Yes, brave Sir Robin turned about\n",
    "    And gallantly he chickened out\n",
    "    Bravely talking to his feet\n",
    "    He beat a very brave retreat"
   ]
  },
  {
   "cell_type": "code",
   "execution_count": null,
   "metadata": {
    "collapsed": true
   },
   "outputs": [],
   "source": [
    "def ini5_logic(in_file, out_file):\n",
    "    f_in = open(in_file, 'r')\n",
    "    f_out = open(out_file, 'w')\n",
    "    line_nr = 1\n",
    "    \n",
    "    for line in f_in:\n",
    "        if line_nr % 2 is 0:\n",
    "            f_out.write(str(line))\n",
    "        line_nr += 1\n",
    "        \n",
    "    print \"complete - write from file: %s to file: %s\" %(in_file, out_file)"
   ]
  },
  {
   "cell_type": "code",
   "execution_count": null,
   "metadata": {
    "collapsed": false
   },
   "outputs": [],
   "source": [
    "ini5_in_file = \"source_files/python_village/rosalind_ini5.txt\"\n",
    "ini5_out_file = \"source_files/python_village/rosalind_ini5_out.txt\"\n",
    "ini5_logic(ini5_in_file, ini5_out_file)"
   ]
  },
  {
   "cell_type": "markdown",
   "metadata": {},
   "source": [
    "### INI6 - Intro to Python dictionary\n",
    "\n",
    "**Problem**\n",
    "\n",
    "> **Given:** A string ss of length at most 10000 letters.\n",
    "\n",
    "> **Return:** How many times any word occurred in string. Each letter case (upper or lower) in word matters. Lines in output can be in any order.\n",
    "\n",
    "**Sample Dataset**\n",
    "\n",
    "    We tried list and we tried dicts also we tried Zen\n",
    "    \n",
    "**Sample Output**\n",
    "\n",
    "    and 1\n",
    "    We 1\n",
    "    tried 3\n",
    "    dicts 1\n",
    "    list 1\n",
    "    we 2\n",
    "    also 1\n",
    "    Zen 1"
   ]
  },
  {
   "cell_type": "code",
   "execution_count": 2,
   "metadata": {
    "collapsed": false
   },
   "outputs": [
    {
     "name": "stdout",
     "output_type": "stream",
     "text": [
      "results written to: source_files/python_village/rosalind_ini6_out.txt\n"
     ]
    }
   ],
   "source": [
    "def ini6_logic():\n",
    "    \n",
    "    filename_in = \"source_files/python_village/rosalind_ini6.txt\"\n",
    "    filename_out = \"source_files/python_village/rosalind_ini6_out.txt\"\n",
    "\n",
    "    f_in = open(filename_in, 'r')\n",
    "    f_out = open(filename_out, 'w')\n",
    "    result = {}\n",
    "    \n",
    "    # loop over inputfile line for line\n",
    "    for line in f_in:  \n",
    "        \n",
    "        # split line in words\n",
    "        for word in line.split():\n",
    "            if not word in result:\n",
    "                result[word] = 1\n",
    "            else:\n",
    "                result[word] += 1\n",
    "            \n",
    "    for key in result.keys():\n",
    "        f_out.write(str(key) + \" \" + str(result[key]) + \"\\n\")\n",
    "    \n",
    "    print \"results written to: %s\" %filename_out\n",
    "    \n",
    "ini6_logic()"
   ]
  }
 ],
 "metadata": {
  "kernelspec": {
   "display_name": "Python 2",
   "language": "python",
   "name": "python2"
  },
  "language_info": {
   "codemirror_mode": {
    "name": "ipython",
    "version": 2
   },
   "file_extension": ".py",
   "mimetype": "text/x-python",
   "name": "python",
   "nbconvert_exporter": "python",
   "pygments_lexer": "ipython2",
   "version": "2.7.11"
  }
 },
 "nbformat": 4,
 "nbformat_minor": 0
}
