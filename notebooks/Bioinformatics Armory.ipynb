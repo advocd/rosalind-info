{
 "cells": [
  {
   "cell_type": "markdown",
   "metadata": {},
   "source": [
    "# Bioinformatics Armory\n",
    "\n",
    "## Introduction to the Bioinformatics Armory\n",
    "\n",
    "> **Let's Be Practical**      \n",
    "If you are an accomplished coder, then you can write a separate program for every new task you encounter. In practice, these programs only need to be written once and posted to the web, where those of us who are not great coders can use them quickly and efficiently. In the Armory, we will familiarize ourselves with a sampling of some of the more popular bioinformatics tools taken from \"out of the box\" software.         \n",
    "To be equitable, we will focus mainly on free, internet-based software and on programs that are compatible with multiple operating systems. The \"Problem\" section will contain links to this software, with short descriptions about how to use it.\n",
    "\n",
    "**Problem**\n",
    "\n",
    "This initial problem is aimed at familiarizing you with Rosalind's task-solving pipeline. To solve it, you merely have to take a given [DNA sequence](http://rosalind.info/glossary/dna/) and find its [nucleotide](http://rosalind.info/glossary/nucleotide/) counts; this problem is equivalent to [“Counting DNA Nucleotides”](http://rosalind.info/problems/dna/) in the [Stronghold](http://rosalind.info/problems/list-view/).\n",
    "\n",
    "Of the many tools for [DNA](http://rosalind.info/glossary/dna/) sequence analysis, one of the most popular is the [Sequence Manipulation Suite](http://rosalind.info/glossary/sms-2/). Commonly known as SMS 2, it comprises a collection of programs for generating, formatting, and analyzing short [strands](http://rosalind.info/glossary/strand/) of DNA and [polypeptides](http://rosalind.info/glossary/polypeptide/).\n",
    "\n",
    "One of the simplest SMS 2 programs, called \" `DNA stats` \", counts the number of occurrences of each nucleotide in a given strand of DNA. An online interface for \" `DNA stats` \" can be found [here](http://www.bioinformatics.org/sms2/dna_stats.html).\n",
    "\n",
    "> **Given:**   A [DNA string](http://rosalind.info/glossary/dna-string/) `s` of length at most 1000 [bp](http://rosalind.info/glossary/base-pair/).\n",
    "\n",
    "> **Return:**  Four integers (separated by spaces) representing the respective number of times that the symbols 'A', 'C', 'G', and 'T' occur in `s`. **Note**: You must provide your answer in the format shown in the sample output below.\n",
    "\n",
    "**Sample Dataset**\n",
    "\n",
    "    AGCTTTTCATTCTGACTGCAACGGGCAATATGTCTCTGTGTGGATTAAAAAAAGAGTGTCTGATAGCAGC\n",
    "    \n",
    "**Sample Output**\n",
    "    \n",
    "    20 12 17 21"
   ]
  },
  {
   "cell_type": "code",
   "execution_count": 2,
   "metadata": {
    "collapsed": false
   },
   "outputs": [
    {
     "name": "stdout",
     "output_type": "stream",
     "text": [
      "20\n"
     ]
    }
   ],
   "source": [
    "from Bio.Seq import Seq\n",
    "my_seq = Seq(\"AGCTTTTCATTCTGACTGCAACGGGCAATATGTCTCTGTGTGGATTAAAAAAAGAGTGTCTGATAGCAGC\")\n",
    "print my_seq.count(\"A\")"
   ]
  }
 ],
 "metadata": {
  "kernelspec": {
   "display_name": "Python 2",
   "language": "python",
   "name": "python2"
  },
  "language_info": {
   "codemirror_mode": {
    "name": "ipython",
    "version": 2
   },
   "file_extension": ".py",
   "mimetype": "text/x-python",
   "name": "python",
   "nbconvert_exporter": "python",
   "pygments_lexer": "ipython2",
   "version": "2.7.11"
  }
 },
 "nbformat": 4,
 "nbformat_minor": 0
}
