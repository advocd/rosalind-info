{
 "cells": [
  {
   "cell_type": "markdown",
   "metadata": {},
   "source": [
    "# Bioinformatics Armory\n",
    "\n",
    "## INI - Introduction to the Bioinformatics Armory\n",
    "\n",
    "> **Let's Be Practical**      \n",
    "If you are an accomplished coder, then you can write a separate program for every new task you encounter. In practice, these programs only need to be written once and posted to the web, where those of us who are not great coders can use them quickly and efficiently. In the Armory, we will familiarize ourselves with a sampling of some of the more popular bioinformatics tools taken from \"out of the box\" software.         \n",
    "To be equitable, we will focus mainly on free, internet-based software and on programs that are compatible with multiple operating systems. The \"Problem\" section will contain links to this software, with short descriptions about how to use it.\n",
    "\n",
    "**Problem**\n",
    "\n",
    "This initial problem is aimed at familiarizing you with Rosalind's task-solving pipeline. To solve it, you merely have to take a given [DNA sequence](http://rosalind.info/glossary/dna/) and find its [nucleotide](http://rosalind.info/glossary/nucleotide/) counts; this problem is equivalent to [“Counting DNA Nucleotides”](http://rosalind.info/problems/dna/) in the [Stronghold](http://rosalind.info/problems/list-view/).\n",
    "\n",
    "Of the many tools for [DNA](http://rosalind.info/glossary/dna/) sequence analysis, one of the most popular is the [Sequence Manipulation Suite](http://rosalind.info/glossary/sms-2/). Commonly known as SMS 2, it comprises a collection of programs for generating, formatting, and analyzing short [strands](http://rosalind.info/glossary/strand/) of DNA and [polypeptides](http://rosalind.info/glossary/polypeptide/).\n",
    "\n",
    "One of the simplest SMS 2 programs, called \" `DNA stats` \", counts the number of occurrences of each nucleotide in a given strand of DNA. An online interface for \" `DNA stats` \" can be found [here](http://www.bioinformatics.org/sms2/dna_stats.html).\n",
    "\n",
    "> **Given:**   A [DNA string](http://rosalind.info/glossary/dna-string/) `s` of length at most 1000 [bp](http://rosalind.info/glossary/base-pair/).\n",
    "\n",
    "> **Return:**  Four integers (separated by spaces) representing the respective number of times that the symbols 'A', 'C', 'G', and 'T' occur in `s`. **Note**: You must provide your answer in the format shown in the sample output below.\n",
    "\n",
    "**Sample Dataset**\n",
    "\n",
    "    AGCTTTTCATTCTGACTGCAACGGGCAATATGTCTCTGTGTGGATTAAAAAAAGAGTGTCTGATAGCAGC\n",
    "    \n",
    "**Sample Output**\n",
    "    \n",
    "    20 12 17 21"
   ]
  },
  {
   "cell_type": "code",
   "execution_count": 8,
   "metadata": {
    "collapsed": false
   },
   "outputs": [],
   "source": [
    "def count_dna_bases_from_file(filename):\n",
    "    \n",
    "    from Bio.Seq import Seq\n",
    "    \n",
    "    bases = ['A', 'C', 'G', 'T']\n",
    "    result_str = \"\"\n",
    "    input_str = \"\"\n",
    "    \n",
    "    # get input from file\n",
    "    f_in = open(filename, 'r')\n",
    "    for line in f_in:\n",
    "        input_str += line\n",
    "    \n",
    "    # initial sequence from biopython\n",
    "    my_seq = Seq(input_str)\n",
    "    \n",
    "    for base in bases:\n",
    "        result_str += str(my_seq.count(base)) + \" \"\n",
    "        \n",
    "    print \"results: '%s' \" %result_str"
   ]
  },
  {
   "cell_type": "code",
   "execution_count": 10,
   "metadata": {
    "collapsed": false,
    "scrolled": true
   },
   "outputs": [
    {
     "name": "stdout",
     "output_type": "stream",
     "text": [
      "results: '235 208 215 220 ' \n"
     ]
    }
   ],
   "source": [
    "file = \"source_files/bioinf_armory/rosalind_ini.txt\"\n",
    "count_dna_bases_from_file(file)"
   ]
  },
  {
   "cell_type": "markdown",
   "metadata": {},
   "source": [
    "## DBPR - Introduction to Protein Databases\n",
    "\n",
    "**Problem**\n",
    "\n",
    "The UniProt Knowledgebase can be found [here](http://www.uniprot.org/help/uniprotkb).\n",
    "\n",
    "You can see a complete description of a protein by entering its UniProt access ID into the site's query field. Equivalently, you may simply insert its ID (`uniprot_id`) directly into a UniProt hyperlink as follows:\n",
    "\n",
    "    http://www.uniprot.org/uniprot/uniprot_id \n",
    "\n",
    "For example, the data for protein B5ZC00 can be found at [http://www.uniprot.org/uniprot/B5ZC00](http://www.uniprot.org/uniprot/B5ZC00).\n",
    "\n",
    "Swiss-Prot holds protein data as a structured `\".txt file\"`. You can obtain it by simply adding .txt to the link:\n",
    "\n",
    "    http://www.uniprot.org/uniprot/uniprot_id.txt\n",
    "    \n",
    "> **Given:** The UniProt ID of a protein.\n",
    "> **Return:** A list of biological processes in which the protein is involved (biological processes are found in a subsection of the protein's \"Gene Ontology\" (GO) section)\n",
    "\n",
    "**Sample Dataset**\n",
    "\n",
    "    Q5SLP9\n",
    "    \n",
    "**Sample Output**\n",
    "    \n",
    "    DNA recombination\n",
    "    DNA repair\n",
    "    DNA replication"
   ]
  },
  {
   "cell_type": "code",
   "execution_count": 19,
   "metadata": {
    "collapsed": false
   },
   "outputs": [],
   "source": [
    "def print_involved_processes_by_UniProtId(id):\n",
    "    '''\n",
    "    A list of biological processes in which the protein is involved \n",
    "    (biological processes are found in a subsection of the protein's \"Gene Ontology\" (GO) section).\n",
    "    '''\n",
    "    from Bio import ExPASy\n",
    "    from Bio import SwissProt\n",
    "    handle = ExPASy.get_sprot_raw(id) #you can give several IDs separated by commas\n",
    "    record = SwissProt.read(handle) # use SwissProt.parse for multiple proteins\n",
    "\n",
    "    for ref in record.cross_references:\n",
    "\n",
    "        # example for ref:\n",
    "        # ('GO', 'GO:0006310', 'P:DNA recombination', 'IEA:UniProtKB-HAMAP')\n",
    "\n",
    "        if 'GO' in ref[0]:   # find GO - gene section in reference\n",
    "            if ref[2]:\n",
    "                if 'P:' in ref[2]: # processes starts with P like \"P:DNA repair\"\n",
    "                    print ref[2].split(':')[1]\n"
   ]
  },
  {
   "cell_type": "code",
   "execution_count": 22,
   "metadata": {
    "collapsed": false
   },
   "outputs": [
    {
     "name": "stdout",
     "output_type": "stream",
     "text": [
      "ATP hydrolysis coupled proton transport\n",
      "plasma membrane ATP synthesis coupled proton transport\n"
     ]
    }
   ],
   "source": [
    "my_id = \"Q2STE7\"\n",
    "print_involved_processes_by_UniProtId(my_id)"
   ]
  }
 ],
 "metadata": {
  "kernelspec": {
   "display_name": "Python 2",
   "language": "python",
   "name": "python2"
  },
  "language_info": {
   "codemirror_mode": {
    "name": "ipython",
    "version": 2
   },
   "file_extension": ".py",
   "mimetype": "text/x-python",
   "name": "python",
   "nbconvert_exporter": "python",
   "pygments_lexer": "ipython2",
   "version": "2.7.11"
  }
 },
 "nbformat": 4,
 "nbformat_minor": 0
}
